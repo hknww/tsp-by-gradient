{
 "cells": [
  {
   "cell_type": "code",
   "execution_count": 1,
   "metadata": {},
   "outputs": [],
   "source": [
    "import tsp_gradient_outils as tsp\n",
    "from tqdm import tqdm"
   ]
  },
  {
   "cell_type": "code",
   "execution_count": 2,
   "metadata": {},
   "outputs": [],
   "source": [
    "liste = [\"004\", \"005\", \"006\", \"008\", \"010\", \"012\", \"016\", \"024\", \"032\", \"040\", \"060\", \"080\", \"100\", \"120\", \"180\", \"220\", \"300\", \"420\", \"560\", \"800\"]"
   ]
  },
  {
   "cell_type": "code",
   "execution_count": 3,
   "metadata": {},
   "outputs": [
    {
     "name": "stderr",
     "output_type": "stream",
     "text": [
      "100%|██████████| 1000/1000 [00:01<00:00, 791.37it/s]\n",
      "100%|██████████| 1000/1000 [00:00<00:00, 1075.33it/s]\n",
      "100%|██████████| 1000/1000 [00:00<00:00, 1166.69it/s]\n",
      "100%|██████████| 1000/1000 [00:01<00:00, 891.11it/s]\n",
      "100%|██████████| 1000/1000 [00:01<00:00, 666.98it/s]\n",
      "100%|██████████| 1000/1000 [00:02<00:00, 419.30it/s]\n",
      "100%|██████████| 1000/1000 [00:03<00:00, 320.88it/s]\n"
     ]
    }
   ],
   "source": [
    "for a in liste[0:7]:\n",
    "    for i in tqdm(range(1000)):\n",
    "        P_1 = tsp.TSPProblem(int(a), int(a) * 2)\n",
    "        file_name = \"data/size_\" + a + \"/instance_\" + a + \"_\" + \"{:03d}\".format(i) + \".csv\"\n",
    "        try:\n",
    "            P_1.load(file_name)\n",
    "        except:\n",
    "            P_1.lp_solve()\n",
    "            P_1.save(file_name)\n"
   ]
  },
  {
   "cell_type": "code",
   "execution_count": 4,
   "metadata": {},
   "outputs": [
    {
     "name": "stderr",
     "output_type": "stream",
     "text": [
      "100%|██████████| 50/50 [00:00<00:00, 142.18it/s]\n",
      "100%|██████████| 50/50 [00:00<00:00, 101.94it/s]\n",
      "100%|██████████| 50/50 [00:00<00:00, 68.28it/s]\n"
     ]
    }
   ],
   "source": [
    "for a in liste[7:10]:\n",
    "    for i in tqdm(range(50)):\n",
    "        P_1 = tsp.TSPProblem(int(a), int(a) * 2)\n",
    "        file_name = \"data/size_\" + a + \"/instance_\" + a + \"_\" + \"{:03d}\".format(i) + \".csv\"\n",
    "        try:\n",
    "            P_1.load(file_name)\n",
    "        except:\n",
    "            P_1.lp_solve()\n",
    "            P_1.save(file_name)\n"
   ]
  }
 ],
 "metadata": {
  "kernelspec": {
   "display_name": "base",
   "language": "python",
   "name": "python3"
  },
  "language_info": {
   "codemirror_mode": {
    "name": "ipython",
    "version": 3
   },
   "file_extension": ".py",
   "mimetype": "text/x-python",
   "name": "python",
   "nbconvert_exporter": "python",
   "pygments_lexer": "ipython3",
   "version": "3.9.13"
  },
  "orig_nbformat": 4,
  "vscode": {
   "interpreter": {
    "hash": "1448b48b023bcc9c3d4a79e814720a10ca6d4244f75e0f7ce4af58f96ba2b7d3"
   }
  }
 },
 "nbformat": 4,
 "nbformat_minor": 2
}
