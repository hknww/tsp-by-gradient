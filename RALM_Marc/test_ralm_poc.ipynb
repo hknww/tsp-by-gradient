{
 "cells": [
  {
   "cell_type": "code",
   "execution_count": 1,
   "metadata": {},
   "outputs": [],
   "source": [
    "#!/usr/bin/env python3\n",
    "# -*- coding: utf-8 -*-\n",
    "\"\"\"\n",
    "Created on Sun Dec 18 17:20:28 2022\n",
    "\n",
    "@author: WANG Haokun\n",
    "@author: CHATROUX Marc\n",
    "@author: LI Yuansheng\n",
    "\"\"\"\n",
    "\n",
    "import numpy as np\n",
    "import matplotlib.pyplot as plt\n",
    "from tqdm import tqdm\n",
    "from scipy import optimize\n",
    "import tsp_gradient_outils as tsp"
   ]
  },
  {
   "attachments": {},
   "cell_type": "markdown",
   "metadata": {},
   "source": [
    "# Essayons de résoudre le problème test suivant:\n",
    "min :\n",
    "$$\n",
    "x_1 + x_2\n",
    "$$\n",
    "s.t.\n",
    "$$\n",
    "x_1^2 + x_2^2 = 32\n",
    "$$"
   ]
  },
  {
   "cell_type": "code",
   "execution_count": 2,
   "metadata": {},
   "outputs": [],
   "source": [
    "def function_f(x_value):\n",
    "    \"\"\"\n",
    "    Fonction de cout classique\n",
    "    \"\"\"\n",
    "    result = np.sum(x_value)\n",
    "    return result\n",
    "\n",
    "def function_h(x_value):\n",
    "    \"\"\"\n",
    "    Fonction de cout des contraintes d'égalités\n",
    "    \"\"\"\n",
    "    result = 32 - np.sum(x_value**2)\n",
    "    return np.array([[result]])\n",
    "\n",
    "def function_global_cost(x_value, gamma_value, rho_value):\n",
    "    \"\"\"\n",
    "    Fonction de cout global\n",
    "    \"\"\"\n",
    "    result = 0\n",
    "    result += function_f(x_value)\n",
    "    result += rho_value / 2 * np.sum(np.square(function_h(x_value) + gamma_value / rho_value))\n",
    "    return result\n",
    "\n",
    "def function_eval(x_value):\n",
    "    \"\"\"\n",
    "    Evalue le respect des contraintes\n",
    "    \"\"\"\n",
    "    result = 0\n",
    "    result += sum(sum(function_h(x_value)))\n",
    "    return result\n",
    "\n",
    "def function_distance(x1, x2):\n",
    "    \"\"\"\n",
    "    Return the distance between x1 and x2\n",
    "    \"\"\"\n",
    "    return np.sqrt(np.sum(np.square(x1 - x2)))"
   ]
  },
  {
   "cell_type": "code",
   "execution_count": 3,
   "metadata": {},
   "outputs": [],
   "source": [
    "X_var = np.array([2, -3])\n",
    "Gamma_var = np.ones((1, 1))\n",
    "Epsilon_var = 1e-2\n",
    "Rho_var = 1e-1\n",
    "\n",
    "Gamma_min = np.ones((1, 1)) * -10\n",
    "Gamma_max = np.ones((1, 1)) * 10\n",
    "Epsilon_min = 1e-5\n",
    "\n",
    "Theta_epsilon = 0.95 \n",
    "Theta_rho = 0.95\n",
    "Theta_sigma = 0.95\n",
    "D_min= 1e-5"
   ]
  },
  {
   "cell_type": "code",
   "execution_count": 4,
   "metadata": {},
   "outputs": [
    {
     "name": "stderr",
     "output_type": "stream",
     "text": [
      "  7%|▋         | 134/2000 [00:00<00:07, 266.26it/s]\n"
     ]
    }
   ],
   "source": [
    "# STOCKAGE DE VALEURS\n",
    "X_list, Gamma_list, Epsilon_list, Rho_list = [], [], [], []\n",
    "Cost_list, Global_cost_list, Eval_list = [], [], []\n",
    "X_list += [X_var]\n",
    "Gamma_list += [Gamma_var]\n",
    "Epsilon_list += [np.array([[Epsilon_var]])]\n",
    "Rho_list += [Rho_var]\n",
    "Cost_list += [function_f(X_var)]\n",
    "Global_cost_list += [function_global_cost(X_var, Gamma_var, Rho_var)]\n",
    "Eval_list += [function_eval(X_var)]\n",
    "\n",
    "\n",
    "for k in tqdm(range(2000)):\n",
    "\n",
    "    # SAUVEGARDE TEMPORAIRE POUR CALCULS\n",
    "    X_var = X_var.copy()\n",
    "    Gamma_var = Gamma_var.copy()\n",
    "\n",
    "    X_var_old = X_var.copy()\n",
    "\n",
    "    # CALCUL DU NOUVEAU X\n",
    "    function_to_solve = lambda X :  function_global_cost(X, Gamma_var, Rho_var)\n",
    "    X_var = optimize.minimize(function_to_solve, X_var, tol=Epsilon_var).x\n",
    "    distance = function_distance(X_var, X_var_old)\n",
    "\n",
    "    # MODIF DES PARAMETRES DU RALM\n",
    "    Gamma_var = np.clip(Gamma_var + Rho_var * function_h(X_var), Gamma_min, Gamma_max)\n",
    "    Epsilon_var = max(Epsilon_min, Theta_epsilon * Epsilon_var)\n",
    "\n",
    "    max_1 = function_h(X_var).max()\n",
    "    max_2 = function_h(X_var_old).max()\n",
    "    if k == 0 or max_1 <= Theta_sigma * max_2:\n",
    "        Rho_var = Rho_var\n",
    "    else:\n",
    "        Rho_var = Theta_rho * Rho_var\n",
    "\n",
    "\n",
    "    # STOCKAGE DE VALEURS\n",
    "    X_list += [X_var]\n",
    "    Gamma_list += [Gamma_var]\n",
    "    Epsilon_list += [np.array([[Epsilon_var]])]\n",
    "    Rho_list += [Rho_var]\n",
    "    Cost_list += [function_f(X_var)]\n",
    "    Global_cost_list += [function_global_cost(X_var, Gamma_var, Rho_var)]\n",
    "    Eval_list += [function_eval(X_var)]\n",
    "\n",
    "    #ARRET DE BOUCLE\n",
    "    if distance <= D_min and Epsilon_var <= Epsilon_min:\n",
    "        break"
   ]
  },
  {
   "cell_type": "code",
   "execution_count": 5,
   "metadata": {},
   "outputs": [
    {
     "name": "stdout",
     "output_type": "stream",
     "text": [
      "##### FIN !!! / DISTANCE = 0.0 / EPSILON = 1e-05 ###\n"
     ]
    },
    {
     "data": {
      "image/png": "[encoded data removed]",
      "text/plain": [
       "<Figure size 1200x600 with 1 Axes>"
      ]
     },
     "metadata": {},
     "output_type": "display_data"
    }
   ],
   "source": [
    "# AFFICHAGE DU BILAN\n",
    "print(f\"##### FIN !!! / DISTANCE = {distance} / EPSILON = {Epsilon_var} ###\")\n",
    "# tsp.plot_array([X_list, Gamma_list, Epsilon_list, Rho_list, Cost_list, Global_cost_list, Eval_list], [\"X_list\", \"Gamma_list\", \"Epsilon_list\", \"Rho_list\", \"Cost\", \"Global cost\", \"Eval\"], ungroup=True)\n",
    "tsp.plot_array([X_list], [\"X_list\"], ungroup=True)"
   ]
  },
  {
   "cell_type": "code",
   "execution_count": 6,
   "metadata": {},
   "outputs": [
    {
     "name": "stdout",
     "output_type": "stream",
     "text": [
      "X : [-3.99999603 -3.99999663]\n",
      "Fonction f : -7.999992655993294\n",
      "Fonction h : [[5.87520265e-05]]\n",
      "Gamma : [[-0.12500003]]\n",
      "Rho : 0.0013451875657683454\n",
      "Fonction L : -2.1922566301268196\n"
     ]
    }
   ],
   "source": [
    "print(\"X :\", X_var)\n",
    "print(\"Fonction f :\", function_f(X_var))\n",
    "print(\"Fonction h :\", function_h(X_var))\n",
    "print(\"Gamma :\", Gamma_var)\n",
    "print(\"Rho :\", Rho_var)\n",
    "print(\"Fonction L :\", function_global_cost(X_var, Gamma_var, Rho_var))"
   ]
  },
  {
   "cell_type": "code",
   "execution_count": 7,
   "metadata": {},
   "outputs": [
    {
     "name": "stdout",
     "output_type": "stream",
     "text": [
      "X : [-4 -4]\n",
      "Fonction f : -8\n",
      "Fonction h : [[0]]\n",
      "Fonction L : -2.1922566301305757\n"
     ]
    }
   ],
   "source": [
    "X_var = np.array([-4, -4])\n",
    "\n",
    "print(\"X :\", X_var)\n",
    "print(\"Fonction f :\", function_f(X_var))\n",
    "print(\"Fonction h :\", function_h(X_var))\n",
    "print(\"Fonction L :\", function_global_cost(X_var, Gamma_var, Rho_var))"
   ]
  }
 ],
 "metadata": {
  "kernelspec": {
   "display_name": "base",
   "language": "python",
   "name": "python3"
  },
  "language_info": {
   "codemirror_mode": {
    "name": "ipython",
    "version": 3
   },
   "file_extension": ".py",
   "mimetype": "text/x-python",
   "name": "python",
   "nbconvert_exporter": "python",
   "pygments_lexer": "ipython3",
   "version": "3.9.13"
  },
  "orig_nbformat": 4,
  "vscode": {
   "interpreter": {
    "hash": "1448b48b023bcc9c3d4a79e814720a10ca6d4244f75e0f7ce4af58f96ba2b7d3"
   }
  }
 },
 "nbformat": 4,
 "nbformat_minor": 2
}
